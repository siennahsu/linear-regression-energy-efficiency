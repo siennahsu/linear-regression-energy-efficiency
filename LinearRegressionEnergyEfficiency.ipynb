{
  "nbformat": 4,
  "nbformat_minor": 0,
  "metadata": {
    "colab": {
      "provenance": []
    },
    "kernelspec": {
      "name": "python3",
      "display_name": "Python 3"
    },
    "language_info": {
      "name": "python"
    }
  },
  "cells": [
    {
      "cell_type": "markdown",
      "source": [
        "# Linear regression on the energy efficiency dataset\n",
        "In this notebook, I will perform linear regression on the energy efficiency dataset that can be fround [here](https://archive.ics.uci.edu/ml/datasets/Energy+efficiency). \n",
        "\n",
        "The features of the dataset are \n",
        "\n",
        "* X1 Relative Compactness\n",
        "* X2 Surface Area\n",
        "* X3 Wall Area\n",
        "* X4 Roof Area\n",
        "* X5 Overall Height\n",
        "* X6 Orientation\n",
        "* X7 Glazing Area\n",
        "* X8 Glazing Area Distribution.\n",
        "\n",
        "The labels are\n",
        "* Y1 Heating Load\n",
        "* Y2 Cooling Load.\n",
        "\n",
        "There are 768 instances in the dataset. \n",
        "\n",
        "The structure of this notebook is as such:\n",
        "\n",
        "1. Exploratory data analysis\n",
        "2. Linear regression model - analytical solution\n",
        "3. Linear regression - mini-batch stochastic gradient descent\n",
        "4. Experiments"
      ],
      "metadata": {
        "id": "4AD6czFDqCOv"
      }
    },
    {
      "cell_type": "code",
      "execution_count": null,
      "metadata": {
        "colab": {
          "base_uri": "https://localhost:8080/"
        },
        "id": "f0-bWj87HRBG",
        "outputId": "33c65742-e4ff-400a-e9af-14e88c6b77bf"
      },
      "outputs": [
        {
          "output_type": "stream",
          "name": "stdout",
          "text": [
            "Drive already mounted at /content/gdrive; to attempt to forcibly remount, call drive.mount(\"/content/gdrive\", force_remount=True).\n"
          ]
        }
      ],
      "source": [
        "import pandas as pd\n",
        "import numpy as np\n",
        "import seaborn as sns\n",
        "import matplotlib.pyplot as plt\n",
        "import math\n",
        "from google.colab import drive \n",
        "drive.mount('/content/gdrive')\n",
        "import warnings"
      ]
    },
    {
      "cell_type": "markdown",
      "source": [
        "# 1. Exploratory data analysis"
      ],
      "metadata": {
        "id": "wlpRoL6Quaok"
      }
    },
    {
      "cell_type": "code",
      "source": [
        "# create a dataframe for the dataset\n",
        "ee_df = pd.read_excel('gdrive/My Drive/College/Classes/COMP551/ENB2012_data.xlsx')\n",
        "#ee_df = ee_df.sample(frac = 1)  # shuffle the rows\n",
        "ee_df.head()  # take a peek at the dataframe"
      ],
      "metadata": {
        "colab": {
          "base_uri": "https://localhost:8080/",
          "height": 206
        },
        "id": "PYlab519suBk",
        "outputId": "81c7532b-88c5-4bdd-e26e-fb725c56e5de"
      },
      "execution_count": null,
      "outputs": [
        {
          "output_type": "execute_result",
          "data": {
            "text/plain": [
              "     X1     X2     X3      X4   X5  X6   X7  X8     Y1     Y2\n",
              "0  0.98  514.5  294.0  110.25  7.0   2  0.0   0  15.55  21.33\n",
              "1  0.98  514.5  294.0  110.25  7.0   3  0.0   0  15.55  21.33\n",
              "2  0.98  514.5  294.0  110.25  7.0   4  0.0   0  15.55  21.33\n",
              "3  0.98  514.5  294.0  110.25  7.0   5  0.0   0  15.55  21.33\n",
              "4  0.90  563.5  318.5  122.50  7.0   2  0.0   0  20.84  28.28"
            ],
            "text/html": [
              "\n",
              "  <div id=\"df-fa07239d-0a58-42d9-bdd7-928abb3a0f3b\">\n",
              "    <div class=\"colab-df-container\">\n",
              "      <div>\n",
              "<style scoped>\n",
              "    .dataframe tbody tr th:only-of-type {\n",
              "        vertical-align: middle;\n",
              "    }\n",
              "\n",
              "    .dataframe tbody tr th {\n",
              "        vertical-align: top;\n",
              "    }\n",
              "\n",
              "    .dataframe thead th {\n",
              "        text-align: right;\n",
              "    }\n",
              "</style>\n",
              "<table border=\"1\" class=\"dataframe\">\n",
              "  <thead>\n",
              "    <tr style=\"text-align: right;\">\n",
              "      <th></th>\n",
              "      <th>X1</th>\n",
              "      <th>X2</th>\n",
              "      <th>X3</th>\n",
              "      <th>X4</th>\n",
              "      <th>X5</th>\n",
              "      <th>X6</th>\n",
              "      <th>X7</th>\n",
              "      <th>X8</th>\n",
              "      <th>Y1</th>\n",
              "      <th>Y2</th>\n",
              "    </tr>\n",
              "  </thead>\n",
              "  <tbody>\n",
              "    <tr>\n",
              "      <th>0</th>\n",
              "      <td>0.98</td>\n",
              "      <td>514.5</td>\n",
              "      <td>294.0</td>\n",
              "      <td>110.25</td>\n",
              "      <td>7.0</td>\n",
              "      <td>2</td>\n",
              "      <td>0.0</td>\n",
              "      <td>0</td>\n",
              "      <td>15.55</td>\n",
              "      <td>21.33</td>\n",
              "    </tr>\n",
              "    <tr>\n",
              "      <th>1</th>\n",
              "      <td>0.98</td>\n",
              "      <td>514.5</td>\n",
              "      <td>294.0</td>\n",
              "      <td>110.25</td>\n",
              "      <td>7.0</td>\n",
              "      <td>3</td>\n",
              "      <td>0.0</td>\n",
              "      <td>0</td>\n",
              "      <td>15.55</td>\n",
              "      <td>21.33</td>\n",
              "    </tr>\n",
              "    <tr>\n",
              "      <th>2</th>\n",
              "      <td>0.98</td>\n",
              "      <td>514.5</td>\n",
              "      <td>294.0</td>\n",
              "      <td>110.25</td>\n",
              "      <td>7.0</td>\n",
              "      <td>4</td>\n",
              "      <td>0.0</td>\n",
              "      <td>0</td>\n",
              "      <td>15.55</td>\n",
              "      <td>21.33</td>\n",
              "    </tr>\n",
              "    <tr>\n",
              "      <th>3</th>\n",
              "      <td>0.98</td>\n",
              "      <td>514.5</td>\n",
              "      <td>294.0</td>\n",
              "      <td>110.25</td>\n",
              "      <td>7.0</td>\n",
              "      <td>5</td>\n",
              "      <td>0.0</td>\n",
              "      <td>0</td>\n",
              "      <td>15.55</td>\n",
              "      <td>21.33</td>\n",
              "    </tr>\n",
              "    <tr>\n",
              "      <th>4</th>\n",
              "      <td>0.90</td>\n",
              "      <td>563.5</td>\n",
              "      <td>318.5</td>\n",
              "      <td>122.50</td>\n",
              "      <td>7.0</td>\n",
              "      <td>2</td>\n",
              "      <td>0.0</td>\n",
              "      <td>0</td>\n",
              "      <td>20.84</td>\n",
              "      <td>28.28</td>\n",
              "    </tr>\n",
              "  </tbody>\n",
              "</table>\n",
              "</div>\n",
              "      <button class=\"colab-df-convert\" onclick=\"convertToInteractive('df-fa07239d-0a58-42d9-bdd7-928abb3a0f3b')\"\n",
              "              title=\"Convert this dataframe to an interactive table.\"\n",
              "              style=\"display:none;\">\n",
              "        \n",
              "  <svg xmlns=\"http://www.w3.org/2000/svg\" height=\"24px\"viewBox=\"0 0 24 24\"\n",
              "       width=\"24px\">\n",
              "    <path d=\"M0 0h24v24H0V0z\" fill=\"none\"/>\n",
              "    <path d=\"M18.56 5.44l.94 2.06.94-2.06 2.06-.94-2.06-.94-.94-2.06-.94 2.06-2.06.94zm-11 1L8.5 8.5l.94-2.06 2.06-.94-2.06-.94L8.5 2.5l-.94 2.06-2.06.94zm10 10l.94 2.06.94-2.06 2.06-.94-2.06-.94-.94-2.06-.94 2.06-2.06.94z\"/><path d=\"M17.41 7.96l-1.37-1.37c-.4-.4-.92-.59-1.43-.59-.52 0-1.04.2-1.43.59L10.3 9.45l-7.72 7.72c-.78.78-.78 2.05 0 2.83L4 21.41c.39.39.9.59 1.41.59.51 0 1.02-.2 1.41-.59l7.78-7.78 2.81-2.81c.8-.78.8-2.07 0-2.86zM5.41 20L4 18.59l7.72-7.72 1.47 1.35L5.41 20z\"/>\n",
              "  </svg>\n",
              "      </button>\n",
              "      \n",
              "  <style>\n",
              "    .colab-df-container {\n",
              "      display:flex;\n",
              "      flex-wrap:wrap;\n",
              "      gap: 12px;\n",
              "    }\n",
              "\n",
              "    .colab-df-convert {\n",
              "      background-color: #E8F0FE;\n",
              "      border: none;\n",
              "      border-radius: 50%;\n",
              "      cursor: pointer;\n",
              "      display: none;\n",
              "      fill: #1967D2;\n",
              "      height: 32px;\n",
              "      padding: 0 0 0 0;\n",
              "      width: 32px;\n",
              "    }\n",
              "\n",
              "    .colab-df-convert:hover {\n",
              "      background-color: #E2EBFA;\n",
              "      box-shadow: 0px 1px 2px rgba(60, 64, 67, 0.3), 0px 1px 3px 1px rgba(60, 64, 67, 0.15);\n",
              "      fill: #174EA6;\n",
              "    }\n",
              "\n",
              "    [theme=dark] .colab-df-convert {\n",
              "      background-color: #3B4455;\n",
              "      fill: #D2E3FC;\n",
              "    }\n",
              "\n",
              "    [theme=dark] .colab-df-convert:hover {\n",
              "      background-color: #434B5C;\n",
              "      box-shadow: 0px 1px 3px 1px rgba(0, 0, 0, 0.15);\n",
              "      filter: drop-shadow(0px 1px 2px rgba(0, 0, 0, 0.3));\n",
              "      fill: #FFFFFF;\n",
              "    }\n",
              "  </style>\n",
              "\n",
              "      <script>\n",
              "        const buttonEl =\n",
              "          document.querySelector('#df-fa07239d-0a58-42d9-bdd7-928abb3a0f3b button.colab-df-convert');\n",
              "        buttonEl.style.display =\n",
              "          google.colab.kernel.accessAllowed ? 'block' : 'none';\n",
              "\n",
              "        async function convertToInteractive(key) {\n",
              "          const element = document.querySelector('#df-fa07239d-0a58-42d9-bdd7-928abb3a0f3b');\n",
              "          const dataTable =\n",
              "            await google.colab.kernel.invokeFunction('convertToInteractive',\n",
              "                                                     [key], {});\n",
              "          if (!dataTable) return;\n",
              "\n",
              "          const docLinkHtml = 'Like what you see? Visit the ' +\n",
              "            '<a target=\"_blank\" href=https://colab.research.google.com/notebooks/data_table.ipynb>data table notebook</a>'\n",
              "            + ' to learn more about interactive tables.';\n",
              "          element.innerHTML = '';\n",
              "          dataTable['output_type'] = 'display_data';\n",
              "          await google.colab.output.renderOutput(dataTable, element);\n",
              "          const docLink = document.createElement('div');\n",
              "          docLink.innerHTML = docLinkHtml;\n",
              "          element.appendChild(docLink);\n",
              "        }\n",
              "      </script>\n",
              "    </div>\n",
              "  </div>\n",
              "  "
            ]
          },
          "metadata": {},
          "execution_count": 17
        }
      ]
    },
    {
      "cell_type": "markdown",
      "source": [
        "We first look at the shape of the dataframe."
      ],
      "metadata": {
        "id": "QJK2oMwIvKpx"
      }
    },
    {
      "cell_type": "code",
      "source": [
        "ee_df.info()"
      ],
      "metadata": {
        "colab": {
          "base_uri": "https://localhost:8080/"
        },
        "id": "FuFMbedVvRtg",
        "outputId": "fcbfdf6f-bc0b-42fb-d6e1-c62e95ccc44b"
      },
      "execution_count": null,
      "outputs": [
        {
          "output_type": "stream",
          "name": "stdout",
          "text": [
            "<class 'pandas.core.frame.DataFrame'>\n",
            "RangeIndex: 768 entries, 0 to 767\n",
            "Data columns (total 10 columns):\n",
            " #   Column  Non-Null Count  Dtype  \n",
            "---  ------  --------------  -----  \n",
            " 0   X1      768 non-null    float64\n",
            " 1   X2      768 non-null    float64\n",
            " 2   X3      768 non-null    float64\n",
            " 3   X4      768 non-null    float64\n",
            " 4   X5      768 non-null    float64\n",
            " 5   X6      768 non-null    int64  \n",
            " 6   X7      768 non-null    float64\n",
            " 7   X8      768 non-null    int64  \n",
            " 8   Y1      768 non-null    float64\n",
            " 9   Y2      768 non-null    float64\n",
            "dtypes: float64(8), int64(2)\n",
            "memory usage: 60.1 KB\n"
          ]
        }
      ]
    },
    {
      "cell_type": "markdown",
      "source": [
        "It shows that all columns are complete. There are no missing data. The dataframe is clean and ready to be used.\n",
        "\n",
        "For each feature, let's visualize the distribution."
      ],
      "metadata": {
        "id": "K2lYetpvvaTf"
      }
    },
    {
      "cell_type": "code",
      "source": [
        "sns.set(rc={'figure.figsize':(17,5)})\n",
        "columns = list(ee_df)\n",
        "columns_titles = [\"Relative Compactness\", \"Surface Area\", \"Wall Area\", \\\n",
        "                  \"Roof Area\", \"Overall Height\", \"Orientation\", \"Glazing Area\", \\\n",
        "                  \"Glazing Area Distribution\", \"Heating Load\", \"Cooling Load\"]\n",
        "columns_mean = ee_df.mean()\n",
        "columns_var = ee_df.var()\n",
        "for i in range(len(columns)):\n",
        "  sns.displot(data=ee_df, x=columns[i])\n",
        "  plt.xlabel(columns_titles[i])\n",
        "  plt.gcf().text(1, 0.5, f'mean = {round(columns_mean[i], 2)} \\nstandard deviation = {round(math.sqrt(columns_var[i]), 2)}', fontsize=12)"
      ],
      "metadata": {
        "colab": {
          "base_uri": "https://localhost:8080/",
          "height": 1000
        },
        "id": "EeX_DFMJviEW",
        "outputId": "ca4c05a7-1fc8-4349-d003-2beb24f6fdf2"
      },
      "execution_count": null,
      "outputs": [
        {
          "output_type": "display_data",
          "data": {
            "text/plain": [
              "<Figure size 360x360 with 1 Axes>"
            ],
            "image/png": "[encoded data removed]"
          },
          "metadata": {}
        },
        {
          "output_type": "display_data",
          "data": {
            "text/plain": [
              "<Figure size 360x360 with 1 Axes>"
            ],
            "image/png": "[encoded data removed]"
          },
          "metadata": {}
        },
        {
          "output_type": "display_data",
          "data": {
            "text/plain": [
              "<Figure size 360x360 with 1 Axes>"
            ],
            "image/png": "[encoded data removed]"
          },
          "metadata": {}
        },
        {
          "output_type": "display_data",
          "data": {
            "text/plain": [
              "<Figure size 360x360 with 1 Axes>"
            ],
            "image/png": "[encoded data removed]"
          },
          "metadata": {}
        },
        {
          "output_type": "display_data",
          "data": {
            "text/plain": [
              "<Figure size 360x360 with 1 Axes>"
            ],
            "image/png": "[encoded data removed]"
          },
          "metadata": {}
        },
        {
          "output_type": "display_data",
          "data": {
            "text/plain": [
              "<Figure size 360x360 with 1 Axes>"
            ],
            "image/png": "[encoded data removed]"
          },
          "metadata": {}
        },
        {
          "output_type": "display_data",
          "data": {
            "text/plain": [
              "<Figure size 360x360 with 1 Axes>"
            ],
            "image/png": "[encoded data removed]"
          },
          "metadata": {}
        },
        {
          "output_type": "display_data",
          "data": {
            "text/plain": [
              "<Figure size 360x360 with 1 Axes>"
            ],
            "image/png": "[encoded data removed]"
          },
          "metadata": {}
        },
        {
          "output_type": "display_data",
          "data": {
            "text/plain": [
              "<Figure size 360x360 with 1 Axes>"
            ],
            "image/png": "[encoded data removed]"
          },
          "metadata": {}
        },
        {
          "output_type": "display_data",
          "data": {
            "text/plain": [
              "<Figure size 360x360 with 1 Axes>"
            ],
            "image/png": "[encoded data removed]"
          },
          "metadata": {}
        }
      ]
    },
    {
      "cell_type": "markdown",
      "source": [
        "# 2. Linear regression model - analytical solution\n",
        "In this section, I will create a linear regression model."
      ],
      "metadata": {
        "id": "oZ5opUMZ3_uS"
      }
    },
    {
      "cell_type": "code",
      "source": [
        "class LinearRegression:\n",
        "    def __init__(self, add_bias=True): \n",
        "        self.add_bias = add_bias\n",
        "        pass\n",
        "    \n",
        "    def fit(self, x, y, split=0.8):  # train on (split*100)% of the data\n",
        "        train_size = math.trunc(len(x)*split)\n",
        "        x_train, y_train = x.loc[:train_size], y.loc[:train_size]\n",
        "        if x_train.ndim == 1:\n",
        "            x_train = x_train[:, None]             # add a dimension for the features\n",
        "        N = x_train.shape[0]                             # number of training instances\n",
        "        if self.add_bias:\n",
        "            x_train = np.column_stack([x_train,np.ones(N)])    # add bias by adding a constant feature of value 1\n",
        "        #alternatively: self.w = np.linalg.inv(x.T @ x)@x.T@y\n",
        "        self.w = np.linalg.lstsq(x_train, y_train)[0]    # return w\n",
        "\n",
        "        # self.train_error = (np.linalg.lstsq(x_train, y_train)[1][0] / N)\n",
        "        # I tried using the line of code above but it behaved weirdly. \n",
        "        # It works most of the time. But when split is of certain values (like 0.6),\n",
        "        # it gives errors. So I think writing the code to calculate error myself is clearer.\n",
        "\n",
        "        error = 0\n",
        "        yh = x_train@self.w\n",
        "        for i in range(len(yh)):\n",
        "          error += (yh[i] - y_train[i]) ** 2\n",
        "        error /= N\n",
        "        self.train_error = error\n",
        "        return self\n",
        "\n",
        "    def test(self, x, y, split=0.8):  # test on ((1-split)*100)% of the data\n",
        "        train_size = math.trunc(len(x)*split)\n",
        "        x_test, y_test = x.loc[train_size:], y.loc[train_size:]\n",
        "        if x_test.ndim == 1:\n",
        "            x_test = x_test[:, None]                         # add a dimension for the features\n",
        "        N = x_test.shape[0]                             # number of testing instances\n",
        "        if self.add_bias:\n",
        "            x_test = np.column_stack([x_test,np.ones(N)])\n",
        "        yh = x_test@self.w                             # predict the y values\n",
        "        error = 0\n",
        "        for i in range(len(yh)):\n",
        "          error += (yh[i] - y_test[train_size+i]) ** 2\n",
        "        error /= N\n",
        "        self.test_error = error\n",
        "        return self\n",
        "    \n",
        "    def predict(self, x):\n",
        "        N = x.shape[0] \n",
        "        if self.add_bias:\n",
        "            x = np.column_stack([x,np.ones(N)])\n",
        "        yh = x@self.w                             # predict the y values\n",
        "        return yh"
      ],
      "metadata": {
        "id": "P9WFnEqs38fy"
      },
      "execution_count": null,
      "outputs": []
    },
    {
      "cell_type": "markdown",
      "source": [
        "Now let's apply the linear regression model on the energy efficiency dataset. Let's first train the model with 80% of the datapoints and see how it performs on the test data."
      ],
      "metadata": {
        "id": "3d5RqJ3BZdFA"
      }
    },
    {
      "cell_type": "code",
      "source": [
        "# Prepare the data\n",
        "x = ee_df.iloc[:, :8]\n",
        "y1 = ee_df['Y1']\n",
        "y2 = ee_df['Y2']\n",
        "\n",
        "model = LinearRegression()"
      ],
      "metadata": {
        "id": "cMpwTaZ5ILUn"
      },
      "execution_count": null,
      "outputs": []
    },
    {
      "cell_type": "code",
      "source": [
        "model.fit(x, y1)\n",
        "model.test(x, y1)"
      ],
      "metadata": {
        "colab": {
          "base_uri": "https://localhost:8080/"
        },
        "id": "LkyPUej0aI9e",
        "outputId": "f5a73eee-b938-4bcf-94c3-be47030acbe1"
      },
      "execution_count": null,
      "outputs": [
        {
          "output_type": "stream",
          "name": "stderr",
          "text": [
            "<ipython-input-20-21ebf38f924a>:15: FutureWarning: `rcond` parameter will change to the default of machine precision times ``max(M, N)`` where M and N are the input matrix dimensions.\n",
            "To use the future default and silence this warning we advise to pass `rcond=None`, to keep using the old, explicitly pass `rcond=-1`.\n",
            "  self.w = np.linalg.lstsq(x_train, y_train)[0]    # return w\n"
          ]
        },
        {
          "output_type": "execute_result",
          "data": {
            "text/plain": [
              "<__main__.LinearRegression at 0x7f3f7db0bc70>"
            ]
          },
          "metadata": {},
          "execution_count": 26
        }
      ]
    },
    {
      "cell_type": "code",
      "source": [
        "model.w"
      ],
      "metadata": {
        "colab": {
          "base_uri": "https://localhost:8080/"
        },
        "id": "Z9ZfhD-uj8Ht",
        "outputId": "80cfb378-6048-4c30-9bf6-bb3b2226c797"
      },
      "execution_count": null,
      "outputs": [
        {
          "output_type": "execute_result",
          "data": {
            "text/plain": [
              "array([-6.37946910e+01, -3.23523859e+11,  3.23523859e+11,  6.47047717e+11,\n",
              "        4.23761582e+00, -3.21496725e-02,  2.20742453e+01,  2.95048237e-01,\n",
              "        8.01314755e+01])"
            ]
          },
          "metadata": {},
          "execution_count": 27
        }
      ]
    },
    {
      "cell_type": "code",
      "source": [
        "print('Model performance on Y1 (Heating Load):')\n",
        "print(f'Training error: {model.train_error}')\n",
        "print(f'Test error: {model.test_error}')"
      ],
      "metadata": {
        "colab": {
          "base_uri": "https://localhost:8080/"
        },
        "id": "aPbTnbuhb79v",
        "outputId": "afc20a09-fe51-484d-ca64-1bdf5e7031bf"
      },
      "execution_count": null,
      "outputs": [
        {
          "output_type": "stream",
          "name": "stdout",
          "text": [
            "Model performance on Y1 (Heating Load):\n",
            "Training error: 8.672051597377289\n",
            "Test error: 9.631809792181432\n"
          ]
        }
      ]
    },
    {
      "cell_type": "code",
      "source": [
        "model.fit(x, y2)\n",
        "model.test(x, y2)"
      ],
      "metadata": {
        "colab": {
          "base_uri": "https://localhost:8080/"
        },
        "id": "UC9MuZ8sJbnt",
        "outputId": "460f0baf-9a15-498b-a721-e292d3f344ab"
      },
      "execution_count": null,
      "outputs": [
        {
          "output_type": "stream",
          "name": "stderr",
          "text": [
            "<ipython-input-20-21ebf38f924a>:15: FutureWarning: `rcond` parameter will change to the default of machine precision times ``max(M, N)`` where M and N are the input matrix dimensions.\n",
            "To use the future default and silence this warning we advise to pass `rcond=None`, to keep using the old, explicitly pass `rcond=-1`.\n",
            "  self.w = np.linalg.lstsq(x_train, y_train)[0]    # return w\n"
          ]
        },
        {
          "output_type": "execute_result",
          "data": {
            "text/plain": [
              "<__main__.LinearRegression at 0x7f3f7db0bc70>"
            ]
          },
          "metadata": {},
          "execution_count": 29
        }
      ]
    },
    {
      "cell_type": "code",
      "source": [
        "model.w"
      ],
      "metadata": {
        "colab": {
          "base_uri": "https://localhost:8080/"
        },
        "id": "rM6usoSlkCQB",
        "outputId": "4b13134d-30a9-4b14-aa07-4d65ca9f6bea"
      },
      "execution_count": null,
      "outputs": [
        {
          "output_type": "execute_result",
          "data": {
            "text/plain": [
              "array([-6.92463510e+01, -2.07170441e+11,  2.07170441e+11,  4.14340883e+11,\n",
              "        4.41484439e+00,  1.14921749e-01,  1.60956405e+01,  8.79856348e-02,\n",
              "        9.19458010e+01])"
            ]
          },
          "metadata": {},
          "execution_count": 30
        }
      ]
    },
    {
      "cell_type": "code",
      "source": [
        "print('Model performance on Y2 (Cooling Load):')\n",
        "print(f'Training error: {model.train_error}')\n",
        "print(f'Test error: {model.test_error}')"
      ],
      "metadata": {
        "colab": {
          "base_uri": "https://localhost:8080/"
        },
        "id": "5Rx2EEdgb-qp",
        "outputId": "d79b8144-9e86-4456-b50f-ebd752603866"
      },
      "execution_count": null,
      "outputs": [
        {
          "output_type": "stream",
          "name": "stdout",
          "text": [
            "Model performance on Y2 (Cooling Load):\n",
            "Training error: 10.313623835177719\n",
            "Test error: 10.244066988405786\n"
          ]
        }
      ]
    },
    {
      "cell_type": "markdown",
      "source": [
        "Let's try the `predict()` function on Y2."
      ],
      "metadata": {
        "id": "PIt7pC4ec2PF"
      }
    },
    {
      "cell_type": "code",
      "source": [
        "predict_data = np.array([[0.98, 514.4, 294, 110.25, 7, 2, 0.1, 1]])\n",
        "print(model.predict(predict_data), ', ', round(model.predict(predict_data)[0], 2))"
      ],
      "metadata": {
        "colab": {
          "base_uri": "https://localhost:8080/"
        },
        "id": "4FcA12GHc4lF",
        "outputId": "3e579aa9-e201-4e48-c486-ebe951c3ebb3"
      },
      "execution_count": null,
      "outputs": [
        {
          "output_type": "stream",
          "name": "stdout",
          "text": [
            "[2.07170442e+10] ,  20717044161.28\n"
          ]
        }
      ]
    },
    {
      "cell_type": "markdown",
      "source": [
        "This doesn't look right. Let's try to normalize the data first."
      ],
      "metadata": {
        "id": "EQZMtp59frc_"
      }
    },
    {
      "cell_type": "code",
      "source": [
        "ee_df_normalized = ee_df.copy()\n",
        "\n",
        "for i in range(8):\n",
        "  ee_df_normalized.iloc[:,i:i+1] = (ee_df_normalized.iloc[:,i:i+1] - ee_df_normalized.iloc[:,i:i+1].mean()) / \\\n",
        "  ee_df_normalized.iloc[:,i:i+1].std()\n",
        "\n",
        "ee_df_normalized.head()"
      ],
      "metadata": {
        "colab": {
          "base_uri": "https://localhost:8080/",
          "height": 206
        },
        "id": "oi6rmTihfvGe",
        "outputId": "25c6ce6e-0aab-46cf-89f3-afeb1e85f89a"
      },
      "execution_count": null,
      "outputs": [
        {
          "output_type": "execute_result",
          "data": {
            "text/plain": [
              "         X1        X2        X3        X4        X5        X6      X7  \\\n",
              "0  2.040447 -1.784712 -0.561586 -1.469119  0.999349 -1.340767 -1.7593   \n",
              "1  2.040447 -1.784712 -0.561586 -1.469119  0.999349 -0.446922 -1.7593   \n",
              "2  2.040447 -1.784712 -0.561586 -1.469119  0.999349  0.446922 -1.7593   \n",
              "3  2.040447 -1.784712 -0.561586 -1.469119  0.999349  1.340767 -1.7593   \n",
              "4  1.284142 -1.228438  0.000000 -1.197897  0.999349 -1.340767 -1.7593   \n",
              "\n",
              "         X8     Y1     Y2  \n",
              "0 -1.813393  15.55  21.33  \n",
              "1 -1.813393  15.55  21.33  \n",
              "2 -1.813393  15.55  21.33  \n",
              "3 -1.813393  15.55  21.33  \n",
              "4 -1.813393  20.84  28.28  "
            ],
            "text/html": [
              "\n",
              "  <div id=\"df-2d32df87-2fdf-4ca6-a2ae-3e8c89d87695\">\n",
              "    <div class=\"colab-df-container\">\n",
              "      <div>\n",
              "<style scoped>\n",
              "    .dataframe tbody tr th:only-of-type {\n",
              "        vertical-align: middle;\n",
              "    }\n",
              "\n",
              "    .dataframe tbody tr th {\n",
              "        vertical-align: top;\n",
              "    }\n",
              "\n",
              "    .dataframe thead th {\n",
              "        text-align: right;\n",
              "    }\n",
              "</style>\n",
              "<table border=\"1\" class=\"dataframe\">\n",
              "  <thead>\n",
              "    <tr style=\"text-align: right;\">\n",
              "      <th></th>\n",
              "      <th>X1</th>\n",
              "      <th>X2</th>\n",
              "      <th>X3</th>\n",
              "      <th>X4</th>\n",
              "      <th>X5</th>\n",
              "      <th>X6</th>\n",
              "      <th>X7</th>\n",
              "      <th>X8</th>\n",
              "      <th>Y1</th>\n",
              "      <th>Y2</th>\n",
              "    </tr>\n",
              "  </thead>\n",
              "  <tbody>\n",
              "    <tr>\n",
              "      <th>0</th>\n",
              "      <td>2.040447</td>\n",
              "      <td>-1.784712</td>\n",
              "      <td>-0.561586</td>\n",
              "      <td>-1.469119</td>\n",
              "      <td>0.999349</td>\n",
              "      <td>-1.340767</td>\n",
              "      <td>-1.7593</td>\n",
              "      <td>-1.813393</td>\n",
              "      <td>15.55</td>\n",
              "      <td>21.33</td>\n",
              "    </tr>\n",
              "    <tr>\n",
              "      <th>1</th>\n",
              "      <td>2.040447</td>\n",
              "      <td>-1.784712</td>\n",
              "      <td>-0.561586</td>\n",
              "      <td>-1.469119</td>\n",
              "      <td>0.999349</td>\n",
              "      <td>-0.446922</td>\n",
              "      <td>-1.7593</td>\n",
              "      <td>-1.813393</td>\n",
              "      <td>15.55</td>\n",
              "      <td>21.33</td>\n",
              "    </tr>\n",
              "    <tr>\n",
              "      <th>2</th>\n",
              "      <td>2.040447</td>\n",
              "      <td>-1.784712</td>\n",
              "      <td>-0.561586</td>\n",
              "      <td>-1.469119</td>\n",
              "      <td>0.999349</td>\n",
              "      <td>0.446922</td>\n",
              "      <td>-1.7593</td>\n",
              "      <td>-1.813393</td>\n",
              "      <td>15.55</td>\n",
              "      <td>21.33</td>\n",
              "    </tr>\n",
              "    <tr>\n",
              "      <th>3</th>\n",
              "      <td>2.040447</td>\n",
              "      <td>-1.784712</td>\n",
              "      <td>-0.561586</td>\n",
              "      <td>-1.469119</td>\n",
              "      <td>0.999349</td>\n",
              "      <td>1.340767</td>\n",
              "      <td>-1.7593</td>\n",
              "      <td>-1.813393</td>\n",
              "      <td>15.55</td>\n",
              "      <td>21.33</td>\n",
              "    </tr>\n",
              "    <tr>\n",
              "      <th>4</th>\n",
              "      <td>1.284142</td>\n",
              "      <td>-1.228438</td>\n",
              "      <td>0.000000</td>\n",
              "      <td>-1.197897</td>\n",
              "      <td>0.999349</td>\n",
              "      <td>-1.340767</td>\n",
              "      <td>-1.7593</td>\n",
              "      <td>-1.813393</td>\n",
              "      <td>20.84</td>\n",
              "      <td>28.28</td>\n",
              "    </tr>\n",
              "  </tbody>\n",
              "</table>\n",
              "</div>\n",
              "      <button class=\"colab-df-convert\" onclick=\"convertToInteractive('df-2d32df87-2fdf-4ca6-a2ae-3e8c89d87695')\"\n",
              "              title=\"Convert this dataframe to an interactive table.\"\n",
              "              style=\"display:none;\">\n",
              "        \n",
              "  <svg xmlns=\"http://www.w3.org/2000/svg\" height=\"24px\"viewBox=\"0 0 24 24\"\n",
              "       width=\"24px\">\n",
              "    <path d=\"M0 0h24v24H0V0z\" fill=\"none\"/>\n",
              "    <path d=\"M18.56 5.44l.94 2.06.94-2.06 2.06-.94-2.06-.94-.94-2.06-.94 2.06-2.06.94zm-11 1L8.5 8.5l.94-2.06 2.06-.94-2.06-.94L8.5 2.5l-.94 2.06-2.06.94zm10 10l.94 2.06.94-2.06 2.06-.94-2.06-.94-.94-2.06-.94 2.06-2.06.94z\"/><path d=\"M17.41 7.96l-1.37-1.37c-.4-.4-.92-.59-1.43-.59-.52 0-1.04.2-1.43.59L10.3 9.45l-7.72 7.72c-.78.78-.78 2.05 0 2.83L4 21.41c.39.39.9.59 1.41.59.51 0 1.02-.2 1.41-.59l7.78-7.78 2.81-2.81c.8-.78.8-2.07 0-2.86zM5.41 20L4 18.59l7.72-7.72 1.47 1.35L5.41 20z\"/>\n",
              "  </svg>\n",
              "      </button>\n",
              "      \n",
              "  <style>\n",
              "    .colab-df-container {\n",
              "      display:flex;\n",
              "      flex-wrap:wrap;\n",
              "      gap: 12px;\n",
              "    }\n",
              "\n",
              "    .colab-df-convert {\n",
              "      background-color: #E8F0FE;\n",
              "      border: none;\n",
              "      border-radius: 50%;\n",
              "      cursor: pointer;\n",
              "      display: none;\n",
              "      fill: #1967D2;\n",
              "      height: 32px;\n",
              "      padding: 0 0 0 0;\n",
              "      width: 32px;\n",
              "    }\n",
              "\n",
              "    .colab-df-convert:hover {\n",
              "      background-color: #E2EBFA;\n",
              "      box-shadow: 0px 1px 2px rgba(60, 64, 67, 0.3), 0px 1px 3px 1px rgba(60, 64, 67, 0.15);\n",
              "      fill: #174EA6;\n",
              "    }\n",
              "\n",
              "    [theme=dark] .colab-df-convert {\n",
              "      background-color: #3B4455;\n",
              "      fill: #D2E3FC;\n",
              "    }\n",
              "\n",
              "    [theme=dark] .colab-df-convert:hover {\n",
              "      background-color: #434B5C;\n",
              "      box-shadow: 0px 1px 3px 1px rgba(0, 0, 0, 0.15);\n",
              "      filter: drop-shadow(0px 1px 2px rgba(0, 0, 0, 0.3));\n",
              "      fill: #FFFFFF;\n",
              "    }\n",
              "  </style>\n",
              "\n",
              "      <script>\n",
              "        const buttonEl =\n",
              "          document.querySelector('#df-2d32df87-2fdf-4ca6-a2ae-3e8c89d87695 button.colab-df-convert');\n",
              "        buttonEl.style.display =\n",
              "          google.colab.kernel.accessAllowed ? 'block' : 'none';\n",
              "\n",
              "        async function convertToInteractive(key) {\n",
              "          const element = document.querySelector('#df-2d32df87-2fdf-4ca6-a2ae-3e8c89d87695');\n",
              "          const dataTable =\n",
              "            await google.colab.kernel.invokeFunction('convertToInteractive',\n",
              "                                                     [key], {});\n",
              "          if (!dataTable) return;\n",
              "\n",
              "          const docLinkHtml = 'Like what you see? Visit the ' +\n",
              "            '<a target=\"_blank\" href=https://colab.research.google.com/notebooks/data_table.ipynb>data table notebook</a>'\n",
              "            + ' to learn more about interactive tables.';\n",
              "          element.innerHTML = '';\n",
              "          dataTable['output_type'] = 'display_data';\n",
              "          await google.colab.output.renderOutput(dataTable, element);\n",
              "          const docLink = document.createElement('div');\n",
              "          docLink.innerHTML = docLinkHtml;\n",
              "          element.appendChild(docLink);\n",
              "        }\n",
              "      </script>\n",
              "    </div>\n",
              "  </div>\n",
              "  "
            ]
          },
          "metadata": {},
          "execution_count": 33
        }
      ]
    },
    {
      "cell_type": "markdown",
      "source": [
        "Then let's test the model again."
      ],
      "metadata": {
        "id": "CztoKyqagicv"
      }
    },
    {
      "cell_type": "code",
      "source": [
        "warnings.filterwarnings('ignore')\n",
        "\n",
        "x = ee_df_normalized.iloc[:, :8]\n",
        "y1 = ee_df_normalized['Y1']\n",
        "y2 = ee_df_normalized['Y2']\n",
        "\n",
        "model = LinearRegression()\n",
        "model.fit(x, y1)\n",
        "model.test(x, y1)\n",
        "print('Model performance on Y1 (Heating Load):')\n",
        "print(f'Training error: {model.train_error}')\n",
        "print(f'Test error: {model.test_error}')\n",
        "print(f'Weights: {model.w}')\n",
        "model.fit(x, y2)\n",
        "model.test(x, y2)\n",
        "print()\n",
        "print('Model performance on Y2 (Cooling Load):')\n",
        "print(f'Training error: {model.train_error}')\n",
        "print(f'Test error: {model.test_error}')\n",
        "print(f'Weights: {model.w}')\n",
        "\n",
        "warnings.filterwarnings('default')"
      ],
      "metadata": {
        "colab": {
          "base_uri": "https://localhost:8080/"
        },
        "id": "6B4ojuvzgmO0",
        "outputId": "142e28fe-2a2f-45a7-e637-ac2fcbea1ae1"
      },
      "execution_count": null,
      "outputs": [
        {
          "output_type": "stream",
          "name": "stdout",
          "text": [
            "Model performance on Y1 (Heating Load):\n",
            "Training error: 9.280695233210652\n",
            "Test error: 12.419995533183627\n",
            "Weights: [-4.54642156e+00  7.80563091e+14 -3.86590109e+14 -8.00463803e+14\n",
            "  8.15625000e+00  2.41088867e-01  3.45605469e+00  1.65039062e-01\n",
            "  2.32568359e+01]\n",
            "\n",
            "Model performance on Y2 (Cooling Load):\n",
            "Training error: 10.415574988692713\n",
            "Test error: 10.336605027426666\n",
            "Weights: [-5.78240493e+00  5.45370294e+14 -2.70105984e+14 -5.59274689e+14\n",
            "  8.12500000e+00  2.46826172e-01  2.17187500e+00  3.24707031e-02\n",
            "  2.52138672e+01]\n"
          ]
        }
      ]
    },
    {
      "cell_type": "markdown",
      "source": [
        "Let's try the `predict()` function."
      ],
      "metadata": {
        "id": "PxxU6aGchHw5"
      }
    },
    {
      "cell_type": "code",
      "source": [
        "def input_normalizer(df, input_np_array):\n",
        "  columns_mean = df.mean()\n",
        "  columns_std = df.std()\n",
        "\n",
        "  input_list = input_np_array.tolist()\n",
        "  output_list = []\n",
        "\n",
        "  for i in range(len(input_list)):\n",
        "    output_sublist = []\n",
        "    for j in range(len(input_list[0])):\n",
        "      normalized_datum = (input_list[i][j] - columns_mean[j]) / columns_std[j]\n",
        "      output_sublist.append(normalized_datum)\n",
        "    output_list.append(output_sublist)\n",
        "  \n",
        "  return np.array(output_list)"
      ],
      "metadata": {
        "id": "TCQn5x2xhNZC"
      },
      "execution_count": null,
      "outputs": []
    },
    {
      "cell_type": "code",
      "source": [
        "predict_data = np.array([[0.98, 514.4, 294, 110.25, 7, 2, 0.1, 1]])\n",
        "normalized_predict_data = input_normalizer(ee_df, predict_data)\n",
        "print(model.predict(normalized_predict_data), ', ', round(model.predict(normalized_predict_data)[0], 2))"
      ],
      "metadata": {
        "colab": {
          "base_uri": "https://localhost:8080/"
        },
        "id": "l9N8HWzq0tVB",
        "outputId": "cc7a71d8-c8d0-4c02-b931-a26e13169e92"
      },
      "execution_count": null,
      "outputs": [
        {
          "output_type": "stream",
          "name": "stdout",
          "text": [
            "[-6.19133092e+11] ,  -619133092416.1\n"
          ]
        }
      ]
    },
    {
      "cell_type": "markdown",
      "source": [
        "# 3. Linear regression - mini-batch stochastic gradient descent\n",
        "\n",
        "In this section, instead of analytically calculating the weights of the features, I will use mini-batch stochastic gradient descent to calculate the weights."
      ],
      "metadata": {
        "id": "HrhsZO4PfPWz"
      }
    },
    {
      "cell_type": "code",
      "source": [
        "class LinearRegressionMBSGD:\n",
        "    def __init__(self, add_bias=True):\n",
        "        self.add_bias = add_bias\n",
        "        pass\n",
        "\n",
        "    def MBSGD(self, x, y, batch_size, learning_rate, lr_scheduling, max_iters, eps):\n",
        "        N, D = x.shape\n",
        "        w = np.zeros(D)  # initialize weights to zeros\n",
        "        g = np.inf  # initialize gradient to infinity\n",
        "\n",
        "        def gradient(x_batch, y_batch, w):\n",
        "            N, D = x_batch.shape\n",
        "            yh = np.dot(x_batch, w)\n",
        "            grad = np.dot(x_batch.T, yh - y_batch) / N\n",
        "            return grad\n",
        "\n",
        "        num_of_batches = math.trunc(N / batch_size)\n",
        "\n",
        "        t = 1\n",
        "        batch_index = 0\n",
        "        alpha = learning_rate\n",
        "\n",
        "        while np.linalg.norm(g) > eps and t < max_iters:\n",
        "            x_mini_batch = x[batch_index * batch_size:batch_index * batch_size + batch_size, :]\n",
        "            y_mini_batch = y[batch_index * batch_size:batch_index * batch_size + batch_size]\n",
        "            g = gradient(x_mini_batch, y_mini_batch, w)\n",
        "            #alpha = t ** (-0.51)\n",
        "            w = w - alpha * g\n",
        "            batch_index = (batch_index + 1) % num_of_batches\n",
        "            t += 1\n",
        "        self.iterations = t\n",
        "        return w\n",
        "\n",
        "    def fit(self, x, y, split=0.8, batch_size=32, learning_rate=0.01, lr_scheduling=False, max_iters=10000,\n",
        "            eps=1e-2):  # train on (split*100)% of the data\n",
        "        train_size = math.trunc(len(x) * split)\n",
        "        x_train, y_train = x.loc[:train_size], y.loc[:train_size].to_numpy()\n",
        "        if x_train.ndim == 1:\n",
        "            x_train = x_train[:, None]  # add a dimension for the features\n",
        "        N = x_train.shape[0]  # number of training instances\n",
        "        if self.add_bias:\n",
        "            x_train = np.column_stack([x_train, np.ones(N)])  # add bias by adding a constant feature of value 1\n",
        "\n",
        "        self.w = self.MBSGD(x_train, y_train, batch_size, learning_rate, lr_scheduling, max_iters, eps)\n",
        "\n",
        "        error = 0\n",
        "        yh = x_train @ self.w\n",
        "        for i in range(len(yh)):\n",
        "            error += (yh[i] - y_train[i]) ** 2\n",
        "        error /= N\n",
        "        self.train_error = error\n",
        "        return self\n",
        "\n",
        "    def test(self, x, y, split=0.8):  # test on ((1-split)*100)% of the data\n",
        "        train_size = math.trunc(len(x) * split)\n",
        "        x_test, y_test = x.loc[train_size:], y.loc[train_size:]\n",
        "        if x_test.ndim == 1:\n",
        "            x_test = x_test[:, None]  # add a dimension for the features\n",
        "        N = x_test.shape[0]  # number of testing instances\n",
        "        if self.add_bias:\n",
        "            x_test = np.column_stack([x_test, np.ones(N)])\n",
        "        yh = x_test @ self.w  # predict the y values\n",
        "        error = 0\n",
        "        for i in range(len(yh)):\n",
        "            error += (yh[i] - y_test[train_size + i]) ** 2\n",
        "        error /= N\n",
        "        self.test_error = error\n",
        "        return self\n",
        "\n",
        "    def predict(self, x):\n",
        "        N = len(x)\n",
        "        if self.add_bias:\n",
        "            x = np.column_stack([x, np.ones(N)])\n",
        "        yh = x @ self.w  # predict the y values\n",
        "        return yh"
      ],
      "metadata": {
        "id": "NU9mNYtPfkl0"
      },
      "execution_count": null,
      "outputs": []
    },
    {
      "cell_type": "markdown",
      "source": [
        "Now let's train the model. The code is going to take some time to run. I have tried larger learning rates, which resulted in divergence. The reason, I suppose, is that in the mini-batch stochastic gradient descent model built above, no learning rate scheduling or momentum were used. Therefore, the gradient descent osciilates a lot with larger learning rates. Using a learning rate of 0.000001 means that the weights converge slowly. To compensate this, I set the max iterations allowed at 1000000."
      ],
      "metadata": {
        "id": "1PjvK7A3ScbJ"
      }
    },
    {
      "cell_type": "code",
      "source": [
        "x = ee_df.iloc[:, :8]\n",
        "y1 = ee_df['Y1']\n",
        "y2 = ee_df['Y2']\n",
        "\n",
        "model = LinearRegressionMBSGD()"
      ],
      "metadata": {
        "id": "MsM9PEUX2xkO"
      },
      "execution_count": null,
      "outputs": []
    },
    {
      "cell_type": "code",
      "source": [
        "model.fit(x, y1, learning_rate=0.000001, max_iters=1000000)\n",
        "model.test(x, y1)"
      ],
      "metadata": {
        "colab": {
          "base_uri": "https://localhost:8080/"
        },
        "id": "W1JPY9gH20pC",
        "outputId": "36339011-c72f-4ff8-88e2-ef639dd2c756"
      },
      "execution_count": null,
      "outputs": [
        {
          "output_type": "execute_result",
          "data": {
            "text/plain": [
              "<__main__.LinearRegressionMBSGD at 0x7f3f7da9d640>"
            ]
          },
          "metadata": {},
          "execution_count": 39
        }
      ]
    },
    {
      "cell_type": "markdown",
      "source": [
        "Let's look at the weights returned by the training model."
      ],
      "metadata": {
        "id": "DQJeU5q2ThMY"
      }
    },
    {
      "cell_type": "code",
      "source": [
        "model.w"
      ],
      "metadata": {
        "colab": {
          "base_uri": "https://localhost:8080/"
        },
        "id": "5ym3qVuM5RYP",
        "outputId": "d6868a61-2520-4e81-d01b-752c0c519f80"
      },
      "execution_count": null,
      "outputs": [
        {
          "output_type": "execute_result",
          "data": {
            "text/plain": [
              "array([ 0.20228709, -0.01342961,  0.07560079, -0.0445152 ,  2.38315181,\n",
              "        0.20121224,  0.27080593,  0.62132318,  0.14253253])"
            ]
          },
          "metadata": {},
          "execution_count": 40
        }
      ]
    },
    {
      "cell_type": "code",
      "source": [
        "print('Model performance on Y1 (Heating Load):')\n",
        "print(f'Training error: {model.train_error}')\n",
        "print(f'Test error: {model.test_error}')"
      ],
      "metadata": {
        "colab": {
          "base_uri": "https://localhost:8080/"
        },
        "id": "2KXEgPp_5Hy3",
        "outputId": "8c7f1a1b-dc3c-446b-c209-ebfb3c328c0d"
      },
      "execution_count": null,
      "outputs": [
        {
          "output_type": "stream",
          "name": "stdout",
          "text": [
            "Model performance on Y1 (Heating Load):\n",
            "Training error: 18.727550781791468\n",
            "Test error: 14.042614102518971\n"
          ]
        }
      ]
    },
    {
      "cell_type": "markdown",
      "source": [
        "Now, I will try the model on Y2. For Y2, let's experiment with max_iters=1000000 and max_iters=1000000."
      ],
      "metadata": {
        "id": "Vi1YhBswTrAd"
      }
    },
    {
      "cell_type": "code",
      "source": [
        "model.fit(x, y2, learning_rate=0.000001, max_iters=1000000) \n",
        "model.test(x, y2)"
      ],
      "metadata": {
        "colab": {
          "base_uri": "https://localhost:8080/"
        },
        "id": "BnZekd27WSCN",
        "outputId": "0d7c474f-1e5b-4495-9b0c-810c439c7982"
      },
      "execution_count": null,
      "outputs": [
        {
          "output_type": "execute_result",
          "data": {
            "text/plain": [
              "<__main__.LinearRegressionMBSGD at 0x7f3f7da9d640>"
            ]
          },
          "metadata": {},
          "execution_count": 42
        }
      ]
    },
    {
      "cell_type": "code",
      "source": [
        "model.w"
      ],
      "metadata": {
        "colab": {
          "base_uri": "https://localhost:8080/"
        },
        "id": "zhdRSCMYWWmf",
        "outputId": "56f21409-6f8d-4f4c-c958-085a5c7d5fe6"
      },
      "execution_count": null,
      "outputs": [
        {
          "output_type": "execute_result",
          "data": {
            "text/plain": [
              "array([ 0.23728358, -0.00872709,  0.06285574, -0.03579141,  2.67907685,\n",
              "        0.34312205,  0.22444494,  0.47342797,  0.16557567])"
            ]
          },
          "metadata": {},
          "execution_count": 43
        }
      ]
    },
    {
      "cell_type": "code",
      "source": [
        "print('Model performance on Y2 (Cooling Load):')\n",
        "print(f'Training error: {model.train_error}')\n",
        "print(f'Test error: {model.test_error}')\n",
        "print(f'Iterations used: {model.iterations}')"
      ],
      "metadata": {
        "colab": {
          "base_uri": "https://localhost:8080/"
        },
        "id": "VhsUg2h5WXR-",
        "outputId": "c36e2e48-abac-48aa-da00-95b4b34864d4"
      },
      "execution_count": null,
      "outputs": [
        {
          "output_type": "stream",
          "name": "stdout",
          "text": [
            "Model performance on Y2 (Cooling Load):\n",
            "Training error: 17.252610580042624\n",
            "Test error: 13.5203201714334\n",
            "Iterations used: 1000000\n"
          ]
        }
      ]
    },
    {
      "cell_type": "markdown",
      "source": [
        "Try out prediction:"
      ],
      "metadata": {
        "id": "m5JeonOAtbJw"
      }
    },
    {
      "cell_type": "code",
      "source": [
        "predict_data = np.array([[0.98, 514.4, 294, 110.25, 7, 2, 0.1, 1]])\n",
        "print(model.predict(predict_data), ', ', round(model.predict(predict_data)[0], 2))"
      ],
      "metadata": {
        "colab": {
          "base_uri": "https://localhost:8080/"
        },
        "id": "MIN0nRhgtZup",
        "outputId": "1675d3e1-c2e3-47e4-a217-e591348f2ee2"
      },
      "execution_count": null,
      "outputs": [
        {
          "output_type": "stream",
          "name": "stdout",
          "text": [
            "[30.37813504] ,  30.38\n"
          ]
        }
      ]
    },
    {
      "cell_type": "code",
      "source": [
        "model.fit(x, y2, learning_rate=0.000001, max_iters=10000000)\n",
        "model.test(x, y2)"
      ],
      "metadata": {
        "colab": {
          "base_uri": "https://localhost:8080/"
        },
        "id": "ZG-961oiTu9T",
        "outputId": "f507df0f-870e-4d88-f978-05999b65a1e3"
      },
      "execution_count": null,
      "outputs": [
        {
          "output_type": "execute_result",
          "data": {
            "text/plain": [
              "<__main__.LinearRegressionMBSGD at 0x7f3f7da9d640>"
            ]
          },
          "metadata": {},
          "execution_count": 46
        }
      ]
    },
    {
      "cell_type": "code",
      "source": [
        "model.w"
      ],
      "metadata": {
        "colab": {
          "base_uri": "https://localhost:8080/"
        },
        "id": "VIUjpfsST3YJ",
        "outputId": "b311845e-4a21-49ac-cfc4-3dafed57f495"
      },
      "execution_count": null,
      "outputs": [
        {
          "output_type": "execute_result",
          "data": {
            "text/plain": [
              "array([-0.31498133, -0.00643639,  0.04481275, -0.02562457,  3.40410177,\n",
              "        0.0224597 ,  1.6015134 ,  0.27457939, -0.09199129])"
            ]
          },
          "metadata": {},
          "execution_count": 47
        }
      ]
    },
    {
      "cell_type": "code",
      "source": [
        "print('Model performance on Y2 (Cooling Load):')\n",
        "print(f'Training error: {model.train_error}')\n",
        "print(f'Test error: {model.test_error}')\n",
        "print(f'Iterations used: {model.iterations}')"
      ],
      "metadata": {
        "colab": {
          "base_uri": "https://localhost:8080/"
        },
        "id": "ZTFZgZMJT5aL",
        "outputId": "05439672-6db7-4d95-bdf8-80685ef1eb90"
      },
      "execution_count": null,
      "outputs": [
        {
          "output_type": "stream",
          "name": "stdout",
          "text": [
            "Model performance on Y2 (Cooling Load):\n",
            "Training error: 14.912754192921385\n",
            "Test error: 13.962695630213544\n",
            "Iterations used: 10000000\n"
          ]
        }
      ]
    },
    {
      "cell_type": "markdown",
      "source": [
        "Setting max_iters at 10000000 did not improve the model that much. But it took 10 times longer to run.\n",
        "\n",
        "As in section 3, let's try normalizing the inputs."
      ],
      "metadata": {
        "id": "ERAWeJMoaIyv"
      }
    },
    {
      "cell_type": "code",
      "source": [
        "warnings.filterwarnings('ignore')\n",
        "\n",
        "x = ee_df_normalized.iloc[:, :8]\n",
        "y1 = ee_df_normalized['Y1']\n",
        "y2 = ee_df_normalized['Y2']\n",
        "\n",
        "model = LinearRegressionMBSGD()\n",
        "model.fit(x, y1, learning_rate=0.000001, max_iters=1000000)\n",
        "model.test(x, y1)\n",
        "print('Model performance on Y1 (Heating Load), learning rate=0.000001, max_iters=1000000, data normalized:')\n",
        "print(f'Training error: {model.train_error}')\n",
        "print(f'Test error: {model.test_error}')\n",
        "print(f'Weights: {model.w}')\n",
        "print(f'Iterations used: {model.iterations}')\n",
        "print()\n",
        "model.fit(x, y1, learning_rate=0.01, max_iters=1000000)\n",
        "model.test(x, y1)\n",
        "print('Model performance on Y1 (Heating Load), learning rate=0.01, max_iters=1000000, data normalized:')\n",
        "print(f'Training error: {model.train_error}')\n",
        "print(f'Test error: {model.test_error}')\n",
        "print(f'Weights: {model.w}')\n",
        "print(f'Iterations used: {model.iterations}')\n",
        "\n",
        "\n",
        "warnings.filterwarnings('default')"
      ],
      "metadata": {
        "colab": {
          "base_uri": "https://localhost:8080/"
        },
        "id": "R3GwqbLXupx-",
        "outputId": "f305912a-dc45-4010-ddd1-9e814e4acc0c"
      },
      "execution_count": null,
      "outputs": [
        {
          "output_type": "stream",
          "name": "stdout",
          "text": [
            "Model performance on Y1 (Heating Load), learning rate=0.000001, max_iters=1000000, data normalized:\n",
            "Training error: 88.49204000524695\n",
            "Test error: 211.27040133243779\n",
            "Weights: [ 1.17015966 -1.47558469  2.34202595 -2.5699988   2.96521925 -0.02077383\n",
            " -1.2478057  -0.98204232 13.32427973]\n",
            "Iterations used: 1000000\n",
            "\n",
            "Model performance on Y1 (Heating Load), learning rate=0.01, max_iters=1000000, data normalized:\n",
            "Training error: 8.668263600066194\n",
            "Test error: 9.72844380257559\n",
            "Weights: [-6.87497848 -3.59509268  0.65134401 -3.82028493  7.3765924  -0.03251876\n",
            "  2.98950792  0.44375543 22.63902638]\n",
            "Iterations used: 1000000\n"
          ]
        }
      ]
    },
    {
      "cell_type": "markdown",
      "source": [
        "Using normalized data, the model can learn faster given the same `max_iters`. The errors are also smaller."
      ],
      "metadata": {
        "id": "Glb-_6CGv_q7"
      }
    },
    {
      "cell_type": "markdown",
      "source": [
        "# 4. Experiments\n",
        "\n",
        "In this section, I will experiment using different parameters in the model and compare the performance."
      ],
      "metadata": {
        "id": "hE55pJrHT-GB"
      }
    },
    {
      "cell_type": "markdown",
      "source": [
        "## Task 1: Performance of the linear regression model using analytical solution \n",
        "\n",
        "Here, I will report the performance of the linear regression model using a 80/20 train/test split. I will report the weight of each feature and its effect on the output.\n",
        "\n"
      ],
      "metadata": {
        "id": "S2n2XrWfUUVb"
      }
    },
    {
      "cell_type": "code",
      "source": [
        "x = ee_df.iloc[:, :8]\n",
        "y1 = ee_df['Y1']\n",
        "y2 = ee_df['Y2']\n",
        "\n",
        "model = LinearRegression()\n",
        "\n",
        "model.fit(x, y1)\n",
        "model.test(x, y1)"
      ],
      "metadata": {
        "colab": {
          "base_uri": "https://localhost:8080/"
        },
        "id": "_AyUXV3YW2eh",
        "outputId": "8fcc98c1-c225-4e7f-9f4e-a23d6062480a"
      },
      "execution_count": null,
      "outputs": [
        {
          "output_type": "stream",
          "name": "stderr",
          "text": [
            "<ipython-input-20-21ebf38f924a>:15: FutureWarning: `rcond` parameter will change to the default of machine precision times ``max(M, N)`` where M and N are the input matrix dimensions.\n",
            "To use the future default and silence this warning we advise to pass `rcond=None`, to keep using the old, explicitly pass `rcond=-1`.\n",
            "  self.w = np.linalg.lstsq(x_train, y_train)[0]    # return w\n"
          ]
        },
        {
          "output_type": "execute_result",
          "data": {
            "text/plain": [
              "<__main__.LinearRegression at 0x7f3f7dacbe50>"
            ]
          },
          "metadata": {},
          "execution_count": 50
        }
      ]
    },
    {
      "cell_type": "code",
      "source": [
        "print('Model performance on Y1 (Heating Load):')\n",
        "print(f'Training error: {model.train_error}')\n",
        "print(f'Test error: {model.test_error}')"
      ],
      "metadata": {
        "colab": {
          "base_uri": "https://localhost:8080/"
        },
        "id": "7RSw0atWW__b",
        "outputId": "3b745fc4-f757-4318-e000-225404b559b4"
      },
      "execution_count": null,
      "outputs": [
        {
          "output_type": "stream",
          "name": "stdout",
          "text": [
            "Model performance on Y1 (Heating Load):\n",
            "Training error: 8.672051597377289\n",
            "Test error: 9.631809792181432\n"
          ]
        }
      ]
    },
    {
      "cell_type": "markdown",
      "source": [
        "The model's performances on training and test datasets are similar, giving mean squared errors of 8.67 and 9.63 respectively."
      ],
      "metadata": {
        "id": "HCGusFbxXIdl"
      }
    },
    {
      "cell_type": "code",
      "source": [
        "print(\"Model weights for Y1\")\n",
        "for i in range(8):\n",
        "  print(f'X{i+1} weight: {model.w[i]}')\n",
        "\n",
        "print(f'Bias weight: {model.w[8]}')"
      ],
      "metadata": {
        "colab": {
          "base_uri": "https://localhost:8080/"
        },
        "id": "pwLxnsukXrBR",
        "outputId": "067c6672-6c3d-41c0-8dff-eae281605b59"
      },
      "execution_count": null,
      "outputs": [
        {
          "output_type": "stream",
          "name": "stdout",
          "text": [
            "Model weights for Y1\n",
            "X1 weight: -63.7946909891699\n",
            "X2 weight: -323523858714.04175\n",
            "X3 weight: 323523858714.0173\n",
            "X4 weight: 647047717427.9193\n",
            "X5 weight: 4.2376158237457275\n",
            "X6 weight: -0.032149672508239746\n",
            "X7 weight: 22.07424532622099\n",
            "X8 weight: 0.29504823684692383\n",
            "Bias weight: 80.13147553801537\n"
          ]
        }
      ]
    },
    {
      "cell_type": "markdown",
      "source": [
        "For Y1(Heating Load), X1, X2, and X6 have negative impacts on the output. whereas X3, X4, X5, X7, and X8 have positive impacts on the output. X2, X3, and X4 have especially large influence over the output."
      ],
      "metadata": {
        "id": "Rv3iSge3X1LG"
      }
    },
    {
      "cell_type": "markdown",
      "source": [
        "## Task 2: Train/test split ratio\n",
        "\n",
        "In this section I will change the train/test ratio and see how it affects the performance."
      ],
      "metadata": {
        "id": "-dw9iYhXLgCX"
      }
    },
    {
      "cell_type": "code",
      "source": [
        "x = ee_df.iloc[:, :8]\n",
        "y1 = ee_df['Y1']\n",
        "y2 = ee_df['Y2']\n",
        "\n",
        "model = LinearRegression()\n",
        "\n",
        "sns.set(rc={'figure.figsize':(10,5)})\n",
        "\n",
        "# for Y1\n",
        "Y1_ratios = []\n",
        "Y1_train_errors = []\n",
        "Y1_test_errors = []\n",
        "\n",
        "for i in range(1, 10):\n",
        "  model.fit(x, y1, split=i/10)\n",
        "  model.test(x, y1, split=i/10)\n",
        "  Y1_ratios.append(i*10)\n",
        "  Y1_train_errors.append(model.train_error)\n",
        "  Y1_test_errors.append(model.test_error)\n",
        "\n",
        "plt.plot(Y1_ratios, Y1_train_errors, label = \"training error\")\n",
        "plt.plot(Y1_ratios, Y1_test_errors, label = \"test error\")\n",
        "\n",
        "plt.title(\"Model performance on Y1 with different train/test ratios\", size=15)\n",
        "plt.xlabel(\"% of data used for training\")\n",
        "plt.ylabel(\"Mean squared error\")\n",
        "\n",
        "plt.legend(loc='center left', bbox_to_anchor=(1, 0.5))\n",
        "plt.show()\n",
        "\n",
        "# for Y2\n",
        "Y2_ratios = []\n",
        "Y2_train_errors = []\n",
        "Y2_test_errors = []\n",
        "\n",
        "for i in range(1, 10):\n",
        "  model.fit(x, y2, split=i/10)\n",
        "  model.test(x, y2, split=i/10)\n",
        "  Y2_ratios.append(i*10)\n",
        "  Y2_train_errors.append(model.train_error)\n",
        "  Y2_test_errors.append(model.test_error)\n",
        "\n",
        "plt.plot(Y2_ratios, Y2_train_errors, label = \"training error\")\n",
        "plt.plot(Y2_ratios, Y2_test_errors, label = \"test error\")\n",
        "\n",
        "plt.title(\"Model performance on Y2 with different train/test ratios\", size=15)\n",
        "plt.xlabel(\"% of data used for training\")\n",
        "plt.ylabel(\"Mean squared error\")\n",
        "\n",
        "plt.legend(loc='center left', bbox_to_anchor=(1, 0.5))\n",
        "plt.show()"
      ],
      "metadata": {
        "colab": {
          "base_uri": "https://localhost:8080/",
          "height": 771
        },
        "id": "bDZTRU5mLvJY",
        "outputId": "2f8f14f2-0713-4a19-86ef-6d98d277bbfd"
      },
      "execution_count": null,
      "outputs": [
        {
          "output_type": "stream",
          "name": "stderr",
          "text": [
            "<ipython-input-20-21ebf38f924a>:15: FutureWarning: `rcond` parameter will change to the default of machine precision times ``max(M, N)`` where M and N are the input matrix dimensions.\n",
            "To use the future default and silence this warning we advise to pass `rcond=None`, to keep using the old, explicitly pass `rcond=-1`.\n",
            "  self.w = np.linalg.lstsq(x_train, y_train)[0]    # return w\n"
          ]
        },
        {
          "output_type": "display_data",
          "data": {
            "text/plain": [
              "<Figure size 720x360 with 1 Axes>"
            ],
            "image/png": "[encoded data removed]"
          },
          "metadata": {}
        },
        {
          "output_type": "display_data",
          "data": {
            "text/plain": [
              "<Figure size 720x360 with 1 Axes>"
            ],
            "image/png": "[encoded data removed]"
          },
          "metadata": {}
        }
      ]
    },
    {
      "cell_type": "markdown",
      "source": [
        "We can see that the training errors are consistently low, but test errors are lower with higher percentages of data used for training."
      ],
      "metadata": {
        "id": "eZf44O9kRPV4"
      }
    },
    {
      "cell_type": "markdown",
      "source": [
        "## Task 3: Different batch sizes in mini-batch stochastic gradient descent\n",
        "\n",
        "To carry out this task, I will use the normalized model since it is more accurate. The effect of batch size can then be emphasized. The learning is set at 0.01 and the train/test split is set at 80/20. max_iters is set at 1000000."
      ],
      "metadata": {
        "id": "qbHB3U88RsBs"
      }
    },
    {
      "cell_type": "code",
      "source": [
        "x = ee_df_normalized.iloc[:, :8]\n",
        "y1 = ee_df_normalized['Y1']\n",
        "y2 = ee_df_normalized['Y2']\n",
        "\n",
        "model = LinearRegressionMBSGD()\n",
        "batch_sizes = [\"8\", \"16\", \"32\", \"64\", \"128\"]\n",
        "Y1_train_errors = []\n",
        "Y1_test_errors = []\n",
        "speed = []\n",
        "\n",
        "for bs in batch_sizes:\n",
        "  model.fit(x, y1, batch_size=int(bs), learning_rate=0.01, max_iters=1000000)\n",
        "  model.test(x, y1)\n",
        "  Y1_train_errors.append(model.train_error)\n",
        "  Y1_test_errors.append(model.test_error)\n",
        "  speed.append(model.iterations)\n",
        "\n",
        "\n",
        "sns.set(rc={'figure.figsize':(8,6)})\n",
        "N = 5\n",
        "ind = np.arange(N) \n",
        "width = 0.2\n",
        "\n",
        "bar1 = plt.bar(ind+(0.5*width), Y1_train_errors, width, color = 'dodgerblue')\n",
        "bar2 = plt.bar(ind+(1.5*width), Y1_test_errors, width, color='sandybrown')\n",
        "\n",
        "plt.xlabel(\"Batch size\")\n",
        "plt.ylabel('Mean squared error')\n",
        "plt.title(\"Model performance on Y1 with different batch sizes\", size=15)\n",
        "plt.xticks(ind+width, batch_sizes)\n",
        "plt.legend((bar1, bar2), ('Training error', 'Test error'), loc='center left', bbox_to_anchor=(1, 0.5))\n",
        "plt.show()\n",
        "\n",
        "sns.set(rc={'figure.figsize':(8,6)})\n",
        "\n",
        "bar = plt.bar(ind, speed, width)\n",
        "plt.xlabel(\"Batch size\")\n",
        "plt.ylabel('Steps used')\n",
        "plt.xticks(ind, batch_sizes)\n",
        "plt.title(\"Convergence speeds of different batch sizes\", size=15)\n",
        "plt.show()"
      ],
      "metadata": {
        "colab": {
          "base_uri": "https://localhost:8080/",
          "height": 807
        },
        "id": "kv_juxfRSHeu",
        "outputId": "dfb352a8-bd1f-4e57-81ea-c639cfcfb67e"
      },
      "execution_count": null,
      "outputs": [
        {
          "output_type": "display_data",
          "data": {
            "text/plain": [
              "<Figure size 576x432 with 1 Axes>"
            ],
            "image/png": "[encoded data removed]"
          },
          "metadata": {}
        },
        {
          "output_type": "display_data",
          "data": {
            "text/plain": [
              "<Figure size 576x432 with 1 Axes>"
            ],
            "image/png": "[encoded data removed]"
          },
          "metadata": {}
        }
      ]
    },
    {
      "cell_type": "markdown",
      "source": [
        "All batch sizes used up the maximum iterations allowed. "
      ],
      "metadata": {
        "id": "Pre5o7uUX-2l"
      }
    },
    {
      "cell_type": "code",
      "source": [
        "Y2_train_errors = []\n",
        "Y2_test_errors = []\n",
        "\n",
        "for bs in batch_sizes:\n",
        "  model.fit(x, y2, batch_size=int(bs), learning_rate=0.01, max_iters=1000000)\n",
        "  model.test(x, y2)\n",
        "  Y2_train_errors.append(model.train_error)\n",
        "  Y2_test_errors.append(model.test_error)\n",
        "  speed.append(model.iterations)\n",
        "\n",
        "\n",
        "sns.set(rc={'figure.figsize':(8,6)})\n",
        "N = 5\n",
        "ind = np.arange(N) \n",
        "width = 0.2\n",
        "\n",
        "bar1 = plt.bar(ind+(0.5*width), Y2_train_errors, width, color = 'dodgerblue')\n",
        "bar2 = plt.bar(ind+(1.5*width), Y2_test_errors, width, color='sandybrown')\n",
        "\n",
        "plt.xlabel(\"Batch size\")\n",
        "plt.ylabel('Mean squared error')\n",
        "plt.title(\"Model performance on Y2 with different batch sizes\", size=15)\n",
        "plt.xticks(ind+width, batch_sizes)\n",
        "plt.legend((bar1, bar2), ('Training error', 'Test error'), loc='center left', bbox_to_anchor=(1, 0.5))\n",
        "plt.show()"
      ],
      "metadata": {
        "colab": {
          "base_uri": "https://localhost:8080/",
          "height": 412
        },
        "id": "Yqw-9K9-UJDj",
        "outputId": "a8001109-e1c8-4aaa-cb34-82596e37c52d"
      },
      "execution_count": null,
      "outputs": [
        {
          "output_type": "display_data",
          "data": {
            "text/plain": [
              "<Figure size 576x432 with 1 Axes>"
            ],
            "image/png": "[encoded data removed]"
          },
          "metadata": {}
        }
      ]
    },
    {
      "cell_type": "markdown",
      "source": [
        "For both Y1 and Y2, training errors are relatively consistent, but smaller batch sizes generally give better test erros, with the exception being batch size 64. Among all batch sizes tried, batch size 8 works the best."
      ],
      "metadata": {
        "id": "FIlsXu5QYM5M"
      }
    },
    {
      "cell_type": "markdown",
      "source": [
        "## Task 4: Different learning rates in mini-batch stochastic gradient descent\n",
        "\n",
        "Same as above, I will use the normalized model and a train/test split of 80/20. Batch size is set at 16. max_iters is 1000000.\n"
      ],
      "metadata": {
        "id": "JjYx-DV8Y5Ps"
      }
    },
    {
      "cell_type": "code",
      "source": [
        "x = ee_df_normalized.iloc[:, :8]\n",
        "y1 = ee_df_normalized['Y1']\n",
        "y2 = ee_df_normalized['Y2']\n",
        "\n",
        "model = LinearRegressionMBSGD()\n",
        "learning_rates = [\"0.0001\", \"0.001\", \"0.01\", \"0.1\"]\n",
        "Y1_train_errors = []\n",
        "Y1_test_errors = []\n",
        "\n",
        "for lr in learning_rates:\n",
        "  model.fit(x, y1, batch_size=16, learning_rate=float(lr), max_iters=1000000)\n",
        "  model.test(x, y1)\n",
        "  Y1_train_errors.append(model.train_error)\n",
        "  Y1_test_errors.append(model.test_error)\n",
        "  speed.append(model.iterations)\n",
        "\n",
        "\n",
        "sns.set(rc={'figure.figsize':(8,6)})\n",
        "N = 4\n",
        "ind = np.arange(N) \n",
        "width = 0.2\n",
        "\n",
        "bar1 = plt.bar(ind+(0.5*width), Y1_train_errors, width, color = 'dodgerblue')\n",
        "bar2 = plt.bar(ind+(1.5*width), Y1_test_errors, width, color='sandybrown')\n",
        "\n",
        "plt.xlabel(\"Learning rate\")\n",
        "plt.ylabel('Mean squared error')\n",
        "plt.title(\"Model performance on Y1 with different learning rates\", size=17)\n",
        "plt.xticks(ind+width, learning_rates)\n",
        "plt.legend((bar1, bar2), ('Training error', 'Test error'), loc='center left', bbox_to_anchor=(1, 0.5))\n",
        "plt.show()"
      ],
      "metadata": {
        "colab": {
          "base_uri": "https://localhost:8080/",
          "height": 414
        },
        "id": "-RoezUmrZSiK",
        "outputId": "a74a0be8-77fe-4425-ab2d-00b8ad50a9a0"
      },
      "execution_count": null,
      "outputs": [
        {
          "output_type": "display_data",
          "data": {
            "text/plain": [
              "<Figure size 576x432 with 1 Axes>"
            ],
            "image/png": "[encoded data removed]"
          },
          "metadata": {}
        }
      ]
    },
    {
      "cell_type": "markdown",
      "source": [
        "Training errors are relatively consistent with learning rates 0.0001, 0.001, and 0.01; however, it increases with a learning rate of 0.1. Meanwhile test erros decreases as the learning rate increases."
      ],
      "metadata": {
        "id": "hFNKXrwRnyX1"
      }
    },
    {
      "cell_type": "markdown",
      "source": [
        "## Task 5: Comparing analytical solution and mini-batch stochastic gradient descent solution\n",
        "\n",
        "Below I will compare the performance of linear regression models using analytical solution and mini-batch stochastic gradient descent respectively. Both use normalized data.\n",
        "\n",
        "For mini-batch stochastic gradient descent, the parameters are as such:\n",
        "* learning rate: 0.01\n",
        "* batch size: 8\n",
        "* maximum iterations allowed: 1000000\n",
        "* train/test split: 80/20.\n",
        "\n",
        "For the analytical solution, train/test ratio is also 80/20."
      ],
      "metadata": {
        "id": "WW0GITfApDTu"
      }
    },
    {
      "cell_type": "code",
      "source": [
        "x = ee_df_normalized.iloc[:, :8]\n",
        "y1 = ee_df_normalized['Y1']\n",
        "y2 = ee_df_normalized['Y2']\n",
        "\n",
        "solutions = ['Analytical', 'MBSGD']\n",
        "Y1_train_errors = []\n",
        "Y1_test_errors = []\n",
        "Y2_train_errors = []\n",
        "Y2_test_errors = []\n",
        "\n",
        "# Analytical solution on Y1\n",
        "model = LinearRegression()\n",
        "model.fit(x, y1)\n",
        "model.test(x, y1)\n",
        "Y1_train_errors.append(model.train_error)\n",
        "Y1_test_errors.append(model.test_error)\n",
        "\n",
        "# Analytical solution on Y2\n",
        "model.fit(x, y2)\n",
        "model.test(x, y2)\n",
        "Y2_train_errors.append(model.train_error)\n",
        "Y2_test_errors.append(model.test_error)\n",
        "\n",
        "model = LinearRegressionMBSGD()\n",
        "\n",
        "# MBSGD solution on Y1\n",
        "model.fit(x, y1, batch_size=8, learning_rate=0.01, max_iters=1000000)\n",
        "model.test(x, y1)\n",
        "Y1_train_errors.append(model.train_error)\n",
        "Y1_test_errors.append(model.test_error)\n",
        "\n",
        "# MBSGD solution on Y2\n",
        "model.fit(x, y2, batch_size=8, learning_rate=0.01, max_iters=1000000)\n",
        "model.test(x, y2)\n",
        "Y2_train_errors.append(model.train_error)\n",
        "Y2_test_errors.append(model.test_error)\n",
        "\n",
        "# plot\n",
        "sns.set(rc={'figure.figsize':(5,5)})\n",
        "N = 2\n",
        "ind = np.arange(N) \n",
        "width = 0.2\n",
        "\n",
        "bar1 = plt.bar(ind+(0.5*width), Y1_train_errors, width, color = 'dodgerblue')\n",
        "bar2 = plt.bar(ind+(1.5*width), Y1_test_errors, width, color='sandybrown')\n",
        "\n",
        "plt.xlabel(\"Model\")\n",
        "plt.ylabel('Mean squared error')\n",
        "plt.title(\"Model performance on Y1 using different models\", size=13)\n",
        "plt.xticks(ind+width, solutions)\n",
        "plt.legend((bar1, bar2), ('Training error', 'Test error'), loc='center left', bbox_to_anchor=(1, 0.5))\n",
        "plt.show()\n",
        "\n",
        "\n",
        "bar1 = plt.bar(ind+(0.5*width), Y2_train_errors, width, color = 'dodgerblue')\n",
        "bar2 = plt.bar(ind+(1.5*width), Y2_test_errors, width, color='sandybrown')\n",
        "\n",
        "plt.xlabel(\"Model\")\n",
        "plt.ylabel('Mean squared error')\n",
        "plt.title(\"Model performance on Y2 using different models\", size=13)\n",
        "plt.xticks(ind+width, solutions)\n",
        "plt.legend((bar1, bar2), ('Training error', 'Test error'), loc='center left', bbox_to_anchor=(1, 0.5))\n",
        "plt.show()"
      ],
      "metadata": {
        "colab": {
          "base_uri": "https://localhost:8080/",
          "height": 767
        },
        "id": "iT2jqsJweNgP",
        "outputId": "1265d2e2-0bca-4fe0-b390-eb62d2580f02"
      },
      "execution_count": null,
      "outputs": [
        {
          "output_type": "stream",
          "name": "stderr",
          "text": [
            "<ipython-input-20-21ebf38f924a>:15: FutureWarning: `rcond` parameter will change to the default of machine precision times ``max(M, N)`` where M and N are the input matrix dimensions.\n",
            "To use the future default and silence this warning we advise to pass `rcond=None`, to keep using the old, explicitly pass `rcond=-1`.\n",
            "  self.w = np.linalg.lstsq(x_train, y_train)[0]    # return w\n"
          ]
        },
        {
          "output_type": "display_data",
          "data": {
            "text/plain": [
              "<Figure size 360x360 with 1 Axes>"
            ],
            "image/png": "[encoded data removed]"
          },
          "metadata": {}
        },
        {
          "output_type": "display_data",
          "data": {
            "text/plain": [
              "<Figure size 360x360 with 1 Axes>"
            ],
            "image/png": "[encoded data removed]"
          },
          "metadata": {}
        }
      ]
    },
    {
      "cell_type": "markdown",
      "source": [
        "The model using mini-batch stochastic gradient descent performs better. For Y1 especially, the analytical solution overfit."
      ],
      "metadata": {
        "id": "mXTrXrNCsnf9"
      }
    },
    {
      "cell_type": "markdown",
      "source": [
        "## Task 6: Mini-batch stochastic gradient descent with ADAM\n",
        "\n",
        "In this task, I will apply Adaptive Moment Estimation (ADAM) on the mini-batch stochastic gradient dscent. The hyperparameters are as such:\n",
        "\n",
        "* learning rate: 0.1\n",
        "* batch size: 16\n",
        "* beta 1: 0.9\n",
        "* beta 2: 0.999\n",
        "* noise: 1e-8\n",
        "* train/test ratio: 80/20\n",
        "* maximum iterations allowed: 1000000"
      ],
      "metadata": {
        "id": "dLtaNpjWs2Bp"
      }
    },
    {
      "cell_type": "code",
      "source": [
        "class LinearRegressionMBSGD_ADAM:\n",
        "    def __init__(self, add_bias=True):\n",
        "        self.add_bias = add_bias\n",
        "        pass\n",
        "\n",
        "    def MBSGD(self, x, y, beta1, beta2, batch_size, learning_rate, max_iters, eps, noise):\n",
        "        N, D = x.shape\n",
        "        w = np.zeros(D)  # initialize weights to zeros\n",
        "        g = np.inf  # initialize gradient to infinity\n",
        "        m  = 0\n",
        "        v = 0\n",
        "        t = 0\n",
        "        alpha = learning_rate\n",
        "\n",
        "        def gradient(x_batch, y_batch, w):\n",
        "            N, D = x_batch.shape\n",
        "            yh = np.dot(x_batch, w)\n",
        "            grad = np.dot(x_batch.T, yh - y_batch) / N\n",
        "            return grad\n",
        "\n",
        "        num_of_batches = math.trunc(N / batch_size)\n",
        "        batch_index = 0\n",
        "        \n",
        "        while np.linalg.norm(g) > eps and t < max_iters:\n",
        "            t += 1\n",
        "            x_mini_batch = x[batch_index * batch_size:batch_index * batch_size + batch_size, :]\n",
        "            y_mini_batch = y[batch_index * batch_size:batch_index * batch_size + batch_size]\n",
        "            g = gradient(x_mini_batch, y_mini_batch, w)\n",
        "            m = beta1 * m + (1 - beta1) * g\n",
        "            v = beta2 * v + (1 - beta2) * (g ** 2)\n",
        "            m_hat = m / (1 - beta1 ** t)\n",
        "            v_hat = v / (1 - beta2 ** t)\n",
        "            w = w - alpha * m_hat / (np.square(v_hat) + noise)\n",
        "            batch_index = (batch_index + 1) % num_of_batches\n",
        "\n",
        "        self.iterations = t\n",
        "        return w\n",
        "\n",
        "    def fit(self, x, y, beta1=0.9, beta2=0.999, split=0.8, batch_size=16, \\\n",
        "            learning_rate=0.1, max_iters=1000000, eps=1e-2, noise=1e-8):\n",
        "        train_size = math.trunc(len(x) * split)\n",
        "        x_train, y_train = x.loc[:train_size], y.loc[:train_size].to_numpy()\n",
        "        if x_train.ndim == 1:\n",
        "            x_train = x_train[:, None]  # add a dimension for the features\n",
        "        N = x_train.shape[0]  # number of training instances\n",
        "        if self.add_bias:\n",
        "            x_train = np.column_stack([x_train, np.ones(N)])  # add bias by adding a constant feature of value 1\n",
        "\n",
        "        self.w = self.MBSGD(x_train, y_train, beta1, beta2, batch_size, learning_rate, max_iters, eps, noise)\n",
        "\n",
        "        error = 0\n",
        "        yh = x_train @ self.w\n",
        "        for i in range(len(yh)):\n",
        "            error += (yh[i] - y_train[i]) ** 2\n",
        "        error /= N\n",
        "        self.train_error = error\n",
        "        return self\n",
        "\n",
        "    def test(self, x, y, split=0.8): \n",
        "        train_size = math.trunc(len(x) * split)\n",
        "        x_test, y_test = x.loc[train_size:], y.loc[train_size:]\n",
        "        if x_test.ndim == 1:\n",
        "            x_test = x_test[:, None]  # add a dimension for the features\n",
        "        N = x_test.shape[0]  # number of testing instances\n",
        "        if self.add_bias:\n",
        "            x_test = np.column_stack([x_test, np.ones(N)])\n",
        "        yh = x_test @ self.w  # predict the y values\n",
        "        error = 0\n",
        "        for i in range(len(yh)):\n",
        "            error += (yh[i] - y_test[train_size + i]) ** 2\n",
        "        error /= N\n",
        "        self.test_error = error\n",
        "        return self\n",
        "\n",
        "    def predict(self, x):\n",
        "        N = len(x)\n",
        "        if self.add_bias:\n",
        "            x = np.column_stack([x, np.ones(N)])\n",
        "        yh = x @ self.w  # predict the y values\n",
        "        return yh"
      ],
      "metadata": {
        "id": "oxjWMOOot67Z"
      },
      "execution_count": null,
      "outputs": []
    },
    {
      "cell_type": "markdown",
      "source": [
        "Let's apply the model on Y1 on both un-normalized data and normalized data."
      ],
      "metadata": {
        "id": "lnLxr6MPPIKP"
      }
    },
    {
      "cell_type": "code",
      "source": [
        "# not normalized\n",
        "\n",
        "x = ee_df.iloc[:, :8]\n",
        "y1 = ee_df['Y1']\n",
        "\n",
        "model = LinearRegressionMBSGD_ADAM()\n",
        "model.fit(x, y1)\n",
        "model.test(x, y1)"
      ],
      "metadata": {
        "colab": {
          "base_uri": "https://localhost:8080/"
        },
        "id": "YaP8rn8yPHq5",
        "outputId": "b8c5c37d-4867-4ac9-c780-f790ad625541"
      },
      "execution_count": null,
      "outputs": [
        {
          "output_type": "execute_result",
          "data": {
            "text/plain": [
              "<__main__.LinearRegressionMBSGD_ADAM at 0x7f3f7fd36d90>"
            ]
          },
          "metadata": {},
          "execution_count": 112
        }
      ]
    },
    {
      "cell_type": "code",
      "source": [
        "model.w"
      ],
      "metadata": {
        "colab": {
          "base_uri": "https://localhost:8080/"
        },
        "id": "Q0G6svmASKbj",
        "outputId": "5256db79-281d-478e-c636-dec906e78c5c"
      },
      "execution_count": null,
      "outputs": [
        {
          "output_type": "execute_result",
          "data": {
            "text/plain": [
              "array([ 1.65238823e+01, -5.53316931e-07,  1.98369237e-05, -1.27011957e-03,\n",
              "        2.97911264e+00, -1.63480649e-02,  2.36212071e+01,  2.54425311e-01,\n",
              "       -1.14280261e+01])"
            ]
          },
          "metadata": {},
          "execution_count": 113
        }
      ]
    },
    {
      "cell_type": "code",
      "source": [
        "print('Model performance on Y1 (Heating Load):')\n",
        "print(f'Training error: {model.train_error}')\n",
        "print(f'Test error: {model.test_error}')\n",
        "print(f'Iterations used: {model.iterations}')"
      ],
      "metadata": {
        "colab": {
          "base_uri": "https://localhost:8080/"
        },
        "id": "U5HLcfdqSNs2",
        "outputId": "374ce10a-c70f-426f-cf07-b8b90bbd6155"
      },
      "execution_count": null,
      "outputs": [
        {
          "output_type": "stream",
          "name": "stdout",
          "text": [
            "Model performance on Y1 (Heating Load):\n",
            "Training error: 23.54902552445526\n",
            "Test error: 27.413207812528295\n",
            "Iterations used: 1000000\n"
          ]
        }
      ]
    },
    {
      "cell_type": "code",
      "source": [
        "predict_data = np.array([[0.98, 514.4, 294, 110.25, 7, 2, 0.1, 1]])\n",
        "print(model.predict(predict_data), ', ', round(model.predict(predict_data)[0], 2))"
      ],
      "metadata": {
        "colab": {
          "base_uri": "https://localhost:8080/"
        },
        "id": "z-QjGOXPWDB8",
        "outputId": "650f8b7e-0d15-4724-d683-b9a80e64772e"
      },
      "execution_count": null,
      "outputs": [
        {
          "output_type": "stream",
          "name": "stdout",
          "text": [
            "[28.06853362] ,  28.07\n"
          ]
        }
      ]
    },
    {
      "cell_type": "markdown",
      "source": [
        "The model gives larger. Let's try the model on normalized data."
      ],
      "metadata": {
        "id": "KkFGRWL2StnZ"
      }
    },
    {
      "cell_type": "code",
      "source": [
        "# normalized\n",
        "x = ee_df_normalized.iloc[:, :8]\n",
        "y1 = ee_df_normalized['Y1']\n",
        "\n",
        "model = LinearRegressionMBSGD_ADAM()\n",
        "model.fit(x, y1)\n",
        "model.test(x, y1)"
      ],
      "metadata": {
        "colab": {
          "base_uri": "https://localhost:8080/"
        },
        "id": "PYEp6UCtS0ex",
        "outputId": "164ad22a-d357-4b78-b34c-4ae999ed5d69"
      },
      "execution_count": null,
      "outputs": [
        {
          "output_type": "execute_result",
          "data": {
            "text/plain": [
              "<__main__.LinearRegressionMBSGD_ADAM at 0x7f3f7db3b040>"
            ]
          },
          "metadata": {},
          "execution_count": 116
        }
      ]
    },
    {
      "cell_type": "code",
      "source": [
        "model.w"
      ],
      "metadata": {
        "colab": {
          "base_uri": "https://localhost:8080/"
        },
        "id": "js7Wp3W2S8p9",
        "outputId": "761e3dbb-1978-48d1-bbda-77005653e307"
      },
      "execution_count": null,
      "outputs": [
        {
          "output_type": "execute_result",
          "data": {
            "text/plain": [
              "array([-6.89537057, -6.65460736,  2.14134808, -0.69530026,  7.3525638 ,\n",
              "       -0.14950265,  2.98571959,  0.45007596, 22.6400372 ])"
            ]
          },
          "metadata": {},
          "execution_count": 117
        }
      ]
    },
    {
      "cell_type": "code",
      "source": [
        "print('Model performance on Y1 (Heating Load):')\n",
        "print(f'Training error: {model.train_error}')\n",
        "print(f'Test error: {model.test_error}')\n",
        "print(f'Iterations used: {model.iterations}')"
      ],
      "metadata": {
        "colab": {
          "base_uri": "https://localhost:8080/"
        },
        "id": "6ml3ZFR-S9hf",
        "outputId": "044d46c5-257b-42c0-c10d-4145b1a43813"
      },
      "execution_count": null,
      "outputs": [
        {
          "output_type": "stream",
          "name": "stdout",
          "text": [
            "Model performance on Y1 (Heating Load):\n",
            "Training error: 8.690497186443803\n",
            "Test error: 9.832385192675924\n",
            "Iterations used: 1000000\n"
          ]
        }
      ]
    },
    {
      "cell_type": "code",
      "source": [
        "predict_data = np.array([[0.98, 514.4, 294, 110.25, 7, 2, 0.1, 1]])\n",
        "normalized_predict_data = input_normalizer(ee_df, predict_data)\n",
        "print(model.predict(normalized_predict_data), ', ', round(model.predict(normalized_predict_data)[0], 2))"
      ],
      "metadata": {
        "colab": {
          "base_uri": "https://localhost:8080/"
        },
        "id": "dkFcnVEuVx-K",
        "outputId": "e8d247d9-2fd8-4a10-eaca-5e7284d66455"
      },
      "execution_count": null,
      "outputs": [
        {
          "output_type": "stream",
          "name": "stdout",
          "text": [
            "[24.28409722] ,  24.28\n"
          ]
        }
      ]
    },
    {
      "cell_type": "markdown",
      "source": [
        "Let's try the model with different batch sizes and learning rates."
      ],
      "metadata": {
        "id": "6rJMQSEFYMtz"
      }
    },
    {
      "cell_type": "code",
      "source": [
        "x = ee_df_normalized.iloc[:, :8]\n",
        "y1 = ee_df_normalized['Y1']\n",
        "\n",
        "model = LinearRegressionMBSGD_ADAM()\n",
        "batch_sizes = [\"8\", \"16\", \"32\", \"64\"]\n",
        "Y1_train_errors = []\n",
        "Y1_test_errors = []\n",
        "\n",
        "for bs in batch_sizes:\n",
        "  model.fit(x, y1, batch_size=int(bs), learning_rate=0.1, max_iters=1000000)\n",
        "  model.test(x, y1)\n",
        "  Y1_train_errors.append(model.train_error)\n",
        "  Y1_test_errors.append(model.test_error)\n",
        "\n",
        "\n",
        "sns.set(rc={'figure.figsize':(8,6)})\n",
        "N = 4\n",
        "ind = np.arange(N) \n",
        "width = 0.2\n",
        "\n",
        "bar1 = plt.bar(ind+(0.5*width), Y1_train_errors, width, color = 'dodgerblue')\n",
        "bar2 = plt.bar(ind+(1.5*width), Y1_test_errors, width, color='sandybrown')\n",
        "\n",
        "plt.xlabel(\"Batch size\")\n",
        "plt.ylabel('Mean squared error')\n",
        "plt.title(\"Model performance on Y1 with different batch sizes, learning rate=0.1\", size=15)\n",
        "plt.xticks(ind+width, batch_sizes)\n",
        "plt.legend((bar1, bar2), ('Training error', 'Test error'), loc='center left', bbox_to_anchor=(1, 0.5))\n",
        "plt.show()"
      ],
      "metadata": {
        "colab": {
          "base_uri": "https://localhost:8080/",
          "height": 412
        },
        "id": "Y9EMavpEYQ6z",
        "outputId": "66d33747-a988-4a74-eb5b-a2e1b8171f85"
      },
      "execution_count": null,
      "outputs": [
        {
          "output_type": "display_data",
          "data": {
            "text/plain": [
              "<Figure size 576x432 with 1 Axes>"
            ],
            "image/png": "[encoded data removed]"
          },
          "metadata": {}
        }
      ]
    },
    {
      "cell_type": "markdown",
      "source": [
        "Batch sizes 8 and 64 perform better."
      ],
      "metadata": {
        "id": "APyqSj3uaOft"
      }
    },
    {
      "cell_type": "code",
      "source": [
        "model = LinearRegressionMBSGD_ADAM()\n",
        "learning_rates = [\"0.0001\", \"0.001\", \"0.01\", \"0.1\"]\n",
        "Y1_train_errors = []\n",
        "Y1_test_errors = []\n",
        "\n",
        "for lr in learning_rates:\n",
        "  model.fit(x, y1, batch_size=8, learning_rate=float(lr), max_iters=1000000)\n",
        "  model.test(x, y1)\n",
        "  Y1_train_errors.append(model.train_error)\n",
        "  Y1_test_errors.append(model.test_error)\n",
        "  speed.append(model.iterations)\n",
        "\n",
        "\n",
        "sns.set(rc={'figure.figsize':(8,6)})\n",
        "N = 4\n",
        "ind = np.arange(N) \n",
        "width = 0.2\n",
        "\n",
        "bar1 = plt.bar(ind+(0.5*width), Y1_train_errors, width, color = 'dodgerblue')\n",
        "bar2 = plt.bar(ind+(1.5*width), Y1_test_errors, width, color='sandybrown')\n",
        "\n",
        "plt.xlabel(\"Learning rate\")\n",
        "plt.ylabel('Mean squared error')\n",
        "plt.title(\"Model performance on Y1 with different learning rates, batch size=8\", size=17)\n",
        "plt.xticks(ind+width, learning_rates)\n",
        "plt.legend((bar1, bar2), ('Training error', 'Test error'), loc='center left', bbox_to_anchor=(1, 0.5))\n",
        "plt.show()"
      ],
      "metadata": {
        "colab": {
          "base_uri": "https://localhost:8080/",
          "height": 414
        },
        "id": "tPS5re2aZNtl",
        "outputId": "1932cf14-0b4d-4aef-e735-6a61adde4630"
      },
      "execution_count": null,
      "outputs": [
        {
          "output_type": "display_data",
          "data": {
            "text/plain": [
              "<Figure size 576x432 with 1 Axes>"
            ],
            "image/png": "[encoded data removed]"
          },
          "metadata": {}
        }
      ]
    },
    {
      "cell_type": "markdown",
      "source": [
        "Learning rate of 0.1 gives significantly smaller error. This is due to the faster learning of the ADAM algorithm.\n",
        "\n",
        "Let's compare it with the other two models. Batch size is 8 for both MBSGD and ADAM."
      ],
      "metadata": {
        "id": "zYPX20dnWy4s"
      }
    },
    {
      "cell_type": "code",
      "source": [
        "x = ee_df_normalized.iloc[:, :8]\n",
        "y1 = ee_df_normalized['Y1']\n",
        "\n",
        "solutions = ['Analytical', 'MBSGD, lr=0.01', 'MBSGD, lr=0.1', 'ADAM, lr=0.1']\n",
        "Y1_train_errors = []\n",
        "Y1_test_errors = []\n",
        "\n",
        "# Analytical solution on Y1\n",
        "model = LinearRegression()\n",
        "model.fit(x, y1)\n",
        "model.test(x, y1)\n",
        "Y1_train_errors.append(model.train_error)\n",
        "Y1_test_errors.append(model.test_error)\n",
        "\n",
        "# MBSGD solution on Y1\n",
        "model = LinearRegressionMBSGD()\n",
        "model.fit(x, y1, batch_size=8, learning_rate=0.01, max_iters=1000000)\n",
        "model.test(x, y1)\n",
        "Y1_train_errors.append(model.train_error)\n",
        "Y1_test_errors.append(model.test_error)\n",
        "\n",
        "model = LinearRegressionMBSGD()\n",
        "model.fit(x, y1, batch_size=8, learning_rate=0.1, max_iters=1000000)\n",
        "model.test(x, y1)\n",
        "Y1_train_errors.append(model.train_error)\n",
        "Y1_test_errors.append(model.test_error)\n",
        "\n",
        "# MBSGD-ADAM solution on Y1\n",
        "model = LinearRegressionMBSGD_ADAM()\n",
        "model.fit(x, y1, batch_size=8, learning_rate=0.1, max_iters=1000000)\n",
        "model.test(x, y1)\n",
        "Y1_train_errors.append(model.train_error)\n",
        "Y1_test_errors.append(model.test_error)\n",
        "\n",
        "\n",
        "# plot\n",
        "sns.set(rc={'figure.figsize':(8,6)})\n",
        "N = 4\n",
        "ind = np.arange(N) \n",
        "width = 0.2\n",
        "\n",
        "bar1 = plt.bar(ind+(0.5*width), Y1_train_errors, width, color = 'dodgerblue')\n",
        "bar2 = plt.bar(ind+(1.5*width), Y1_test_errors, width, color='sandybrown')\n",
        "\n",
        "plt.xlabel(\"Model\")\n",
        "plt.ylabel('Mean squared error')\n",
        "plt.title(\"Model performance on Y1 using different models\", size=13)\n",
        "plt.xticks(ind+width, solutions)\n",
        "plt.legend((bar1, bar2), ('Training error', 'Test error'), loc='center left', bbox_to_anchor=(1, 0.5))\n",
        "plt.show()"
      ],
      "metadata": {
        "colab": {
          "base_uri": "https://localhost:8080/",
          "height": 484
        },
        "id": "StJ6JYtiWt4V",
        "outputId": "de3eb294-e280-4468-9628-6b1ca375e2b8"
      },
      "execution_count": null,
      "outputs": [
        {
          "output_type": "stream",
          "name": "stderr",
          "text": [
            "<ipython-input-20-21ebf38f924a>:15: FutureWarning: `rcond` parameter will change to the default of machine precision times ``max(M, N)`` where M and N are the input matrix dimensions.\n",
            "To use the future default and silence this warning we advise to pass `rcond=None`, to keep using the old, explicitly pass `rcond=-1`.\n",
            "  self.w = np.linalg.lstsq(x_train, y_train)[0]    # return w\n"
          ]
        },
        {
          "output_type": "display_data",
          "data": {
            "text/plain": [
              "<Figure size 576x432 with 1 Axes>"
            ],
            "image/png": "[encoded data removed]"
          },
          "metadata": {}
        }
      ]
    },
    {
      "cell_type": "markdown",
      "source": [
        "In this specific example, mini-batch gradient descent without learning rate scheduling or momentum works the best."
      ],
      "metadata": {
        "id": "5JSy-Tx9cSUb"
      }
    }
  ]
}